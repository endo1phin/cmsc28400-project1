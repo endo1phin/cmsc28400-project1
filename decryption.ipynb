{
 "cells": [
  {
   "cell_type": "code",
   "execution_count": 98,
   "metadata": {},
   "outputs": [],
   "source": [
    "import os\n",
    "from typing import List, Dict\n",
    "from collections import Counter\n",
    "\n",
    "letters = [1,3,4,6,10,12,13,14]\n",
    "numbers = [2,5,8,11,17,18,19,20]\n",
    "\n",
    "# src: http://pi.math.cornell.edu/~mec/2003-2004/cryptography/subs/frequencies.html\n",
    "\n",
    "letter_freq_ref = {' ': 18.2884627, 'e': 10.2666504, 't': 7.5169982, 'a': 6.5321669, 'o': 6.1595773, 'n': 5.7120111, 'i': 5.6684433, 's': 5.3170053, 'r': 4.9879086, 'h': 4.978563, 'l': 3.317548, 'd': 3.2829231, 'u': 2.2757954, 'c': 2.233676, 'm': 2.0265678, 'f': 1.9830672, 'w': 1.7038938, 'g': 1.6249044, 'p': 1.5043243, 'y': 1.4276666, 'b': 1.2588807, 'v': 0.7961164, 'k': 0.5609627, 'x': 0.1409202, 'j': 0.0975218, 'q': 0.0836755, 'z': 0.0512846}\n",
    "letter_freq_ref_list = [' ', 'e','t', 'a','o','i','n','s','r','h','d','l','u','c','m','f','y','w','g','p','b','v','k','x','q','j','z']\n"
   ]
  },
  {
   "cell_type": "code",
   "execution_count": 8,
   "metadata": {
    "tags": []
   },
   "outputs": [],
   "source": [
    "# return ctxts (in bytearray) given the file number\n",
    "def ctxt(file_no:int) -> bytearray : \n",
    "    path = 'ctxts/%02d.txt' % file_no\n",
    "    ctxtfile = open(path)\n",
    "    ctxt_str = ctxtfile.read()\n",
    "    ctxt_bytes = ctxt_str.encode('utf-8')\n",
    "    return ctxt_bytes"
   ]
  },
  {
   "cell_type": "markdown",
   "metadata": {},
   "source": [
    "## Group 1: Text - Shift\n",
    "### CTXT: 1\n",
    "\n",
    "While screening for potential shift cipher encoded ciphertext using exhaustive key search, we are able to decode the message in 1 by shifting each alphabet by 12."
   ]
  },
  {
   "cell_type": "code",
   "execution_count": 10,
   "metadata": {
    "tags": []
   },
   "outputs": [
    {
     "name": "stdout",
     "output_type": "stream",
     "text": [
      "hey alex, you've got to stop reusing that one time pad. the students are onto us. let's switch to a stronger cipher. david\n",
      "\n"
     ]
    }
   ],
   "source": [
    "# perform shift on a byte, ignore non letters\n",
    "def shift_letter(l:int, shift:int) -> int:\n",
    "    if l<97 or l>122: # a=97, z=122\n",
    "        return l\n",
    "    elif l+shift > 122:\n",
    "        return l+shift-26\n",
    "    elif l+shift < 97:\n",
    "        return l+shift+26\n",
    "    else: \n",
    "        return l+shift\n",
    "\n",
    "# decrypt shift ciper\n",
    "def shift(ctxt:bytearray, shift:int, limit:int = -1):\n",
    "    limit = len(ctxt) if limit<0 else limit\n",
    "    for i in range(limit):\n",
    "        print(chr(shift_letter(ctxt[i], shift)), end='')\n",
    "    print()\n",
    "\n",
    "\n",
    "shift(ctxt(1), 12)"
   ]
  },
  {
   "cell_type": "markdown",
   "metadata": {},
   "source": [
    "## Group 7 Text - Substitution\n",
    "### CTXT: 10, 12\n",
    "First we observe that the punctuation seems to be unmodified. Because t is the most common letter and it often appears after commas, we then substitute t for space. The resulting text has reasonable spacing in terms of word length and space placement. Since the letter frequency of 10 and 12 are very similar, we group these two ciphertexts together.\n",
    "\n",
    "We then matched the second most frequent letter in these sequences, `s` with the most frequent letter `e` in our reference text. While the results are not immediately clear, we observed that the sequence `mvs` is the most common trigram in the sequences. We also noticed that `mvsm` appears in the text. These observations led us to predict `m` to be `s` since it is very possible that the latter is a plural form of the former. Together, we assumed the `mvs` and `mvsm` sequences to be `s*e` and `s*es`. This leaves 2 possibilities for the substitution of `v`, `a` and `h`. We choose `h` because `h` has a more similar reference frequency with `v`.\n",
    "\n",
    "After that we simply look for short phrases with most letters guessed, and test out potential substitutions one by one. However, we note that the word `scum` is substituted to `skum` in order to make sense of "
   ]
  },
  {
   "cell_type": "code",
   "execution_count": 184,
   "metadata": {},
   "outputs": [
    {
     "name": "stdout",
     "output_type": "stream",
     "text": [
      "my pet bat has the coronavirus, but shes asymptomatic.\n",
      "however, bats arent in favour right now so shes heeping her little head down.\n",
      "hidden beneath her folded wings, she tuchs her furrowed snout  patient hero in a world frothing to place blame.\n",
      "she tells everyone that she cant infect humans, but no ones listening to facts.\n",
      "she posts articles daily on social media. headlines such as:\n",
      "bats not to blame: intermediate host required for human infection from sarscov2 virus.\n",
      "she writes were just a natural reservoir of the disease, the pangolins are the ones being irresponsible! bats are victims too! with a picture of her wearing a face mash, loohing mournful.\n",
      "the pathos is wellintended but not well received.\n",
      "dirty bat!\n",
      "goddamn bat shum!\n",
      "angry comments flow beneath all her posts.\n",
      "she hangs around our bedroom, sullen  our housemates isolating her.\n",
      "we watch true blood reruns and eat dry toast.\n",
      "\n",
      "we had decided it would be best for me to stay home with lucas while my husband nate went to worh; his job paid more and he enjoyed worhing while i was stuch in a sales role i hated. some people may not understand but i really wanted to be home; i couldnt bear the thought of being away from lucas for even a minute once he was in the world, and i cherished every minute with him.\n",
      "\n",
      "nate would leave in the mornings around 8 and return by dinner, probably around 6. this left me alone with lucas for 10 hours a day, and at first i never left a room without him. i would carry him around with me, and would be in his room while he napped, reading or napping myself. when nate found out about this, he was a bit hesitant but understood for the first month. however, eventually he insisted on a baby monitor and some distance  lucas was becoming very dependent on me, and he wanted to try giving him some alone time.\n",
      "\n"
     ]
    }
   ],
   "source": [
    "s10 = ctxt(10).decode()\n",
    "s12 = ctxt(12).decode()\n",
    "\n",
    "def tally_frequency(s):\n",
    "    d, l = {}, 0\n",
    "    for c in s:\n",
    "        if c.isalpha() or c==' ':\n",
    "            d[c] = d.get(c, 0)+1\n",
    "            l+=1\n",
    "    return {k:v/l*100 for (k, v) in d.items()}\n",
    "\n",
    "def apply_transformation(s, d, colored=False):\n",
    "    res, i = \"\", 0\n",
    "    while i < len(s):\n",
    "        replacement = d.get(s[i], None)\n",
    "        if replacement != None:\n",
    "            if colored:\n",
    "                res+=\"\\x1b[31m\"+replacement+\"\\x1b[0m\"\n",
    "            else:\n",
    "                res+=replacement\n",
    "        else:\n",
    "            res+=s[i]\n",
    "        i+=1\n",
    "    return res\n",
    "\n",
    "def rank_frequency(d):\n",
    "    return [s[0] for s in sorted(d.items(), key=lambda x: x[1], reverse=True)]\n",
    "\n",
    "# freq_d_10 = tally_frequency(s10)\n",
    "# freq_d_12 = tally_frequency(s12)\n",
    "# freq_l_10 = rank_frequency(freq_d_10)\n",
    "# freq_l_12 = rank_frequency(freq_d_12)\n",
    "\n",
    "# for i, j, k in zip(freq_l_10,freq_l_12,letter_freq_ref_list):\n",
    "#     print(i, round(freq_d_10[i],4),\"\\t\",\n",
    "#           j, round(freq_d_12[j],4),\"\\t\",\n",
    "#           k, round(letter_freq_ref[k],4))\n",
    "\n",
    "\n",
    "d = {\n",
    "    't':' ',\n",
    "    's':'e',\n",
    "    ' ':'c',\n",
    "    'l':'a',\n",
    "    'u':'t', \n",
    "    'r':'o',\n",
    "    'm':'s',\n",
    "    'v':'h',\n",
    "    'o':'p',\n",
    "    'd':'m',\n",
    "    'x':'y',\n",
    "    'p':'b',\n",
    "    'a':'u',\n",
    "    'w':'w',\n",
    "    'f':'v',\n",
    "    'q':'r',\n",
    "    'e':'n',\n",
    "    'y':'i',\n",
    "    'i':'g',\n",
    "    'c':'d',\n",
    "    'h':'k',\n",
    "    'z':'f',\n",
    "    'n':'l',\n",
    "    'j':'h',\n",
    "    'g':'j',\n",
    "    'b':'q'\n",
    "}\n",
    "\n",
    "s10_1 = apply_transformation(s10, d)\n",
    "s12_1 = apply_transformation(s12, d)\n",
    "print(s10_1)\n",
    "print(s12_1)\n"
   ]
  },
  {
   "cell_type": "code",
   "execution_count": null,
   "metadata": {},
   "outputs": [],
   "source": []
  },
  {
   "cell_type": "code",
   "execution_count": 19,
   "metadata": {},
   "outputs": [
    {
     "data": {
      "text/plain": [
       "{'th': 0.09875606809612637,\n",
       " 'he': 0.08499024745598541,\n",
       " 'in': 0.07400426722198333,\n",
       " 'er': 0.06510793721416461,\n",
       " 'an': 0.05889614793878943,\n",
       " 're': 0.051424667195244765,\n",
       " 'es': 0.048172285488823026,\n",
       " 'on': 0.04804128272842526,\n",
       " 'st': 0.045596093976635374,\n",
       " 'nt': 0.042795999762623174,\n",
       " 'en': 0.041352777310769265,\n",
       " 'at': 0.04074781181176989,\n",
       " 'ed': 0.039374820567679686,\n",
       " 'nd': 0.0389918982523242,\n",
       " 'to': 0.03892511597387786,\n",
       " 'or': 0.038595925546323614,\n",
       " 'ea': 0.036574021543099695,\n",
       " 'ti': 0.03620165872499343,\n",
       " 'ar': 0.03574973250075516,\n",
       " 'te': 0.035701240689606444}"
      ]
     },
     "execution_count": 19,
     "metadata": {},
     "output_type": "execute_result"
    }
   ],
   "source": [
    "def get_bigrams(l:int) -> Dict[str, float]:\n",
    "    bigrams = {}\n",
    "    s = 0\n",
    "    with open('bigrams.txt', 'r') as f:\n",
    "        for i in range(l):\n",
    "            line = f.readline()\n",
    "            toks = line.split()\n",
    "            s += int(toks[1])\n",
    "            bigrams[toks[0].lower()] = int(toks[1])\n",
    "    for k in bigrams.keys():\n",
    "        bigrams[k] = bigrams[k]/s\n",
    "    return bigrams\n",
    "get_bigrams(20)"
   ]
  },
  {
   "cell_type": "code",
   "execution_count": 146,
   "metadata": {},
   "outputs": [
    {
     "name": "stdout",
     "output_type": "stream",
     "text": [
      "k aqx qqkrankp vlu tqqgv tfv bqquyerpk y bxwvit yl bjehj trvl otr pwci. n tju xxnktkrw np cjihj xwa aqd qqcx otr lcr swbjvi q kfug wkhe cjej, yejv jyqb lqybi ejxi yyp xyr xfpq pycgba. hsh jujotbj vxw ghjxcg e jjuc hmbj, fwumtj qqcx jjuc hmbj vxw lqab cji xfpq vlqy zxoii trc kj otr ywx jmxc uecj crni jmoxwkx f ejul vzklvmes. f mqr'j yerpo jmxc'u texprdpu (n jncr cfvkg cez zjp he nq ka gxfklg) fo hxw ask uoxxi jmxc uysm x okpu juruxi to mqiis'q? ru xxjon cro bxh ask hxw oeaj lwg rey yh elqszn (k hes'q cjmdp px). k aezim nmaj qx jiqw vxwv eufwksdx. qqcra dld.\n",
      "\n",
      "[' ', 'j', 'x', 'q', 'c', 'k', 'r', 'e', 'u', 'w', 'y', 'i', 'p', 'v', 't', 'h', 'o', 'm', 'a', 'l', 'b', 'n', 'f', 's', 'g', 'd', 'z']\n",
      "[' ', 'e', 't', 'a', 'o', 'i', 'n', 's', 'r', 'h', 'd', 'l', 'u', 'c', 'm', 'f', 'y', 'w', 'g', 'p', 'b', 'v', 'k', 'x', 'q', 'j', 'z']\n",
      "\n",
      "\n",
      "k asx sskraakp vlu tssgv tfv bssuyerpk y bxwvit yl bdehd trvl otr pwci. a tdu xxaktkrw ap cdihd xwa asd sscx otr lcr swbdvi s kfug wkhe cded, yedv dysb lsybi edxi yyp xyr xfps pycgba. hsh dudotbd vxw ghdxcg e dduc hmbd, fwumtd sscx dduc hmbd vxw lsab cdi xfps vlsy zxoii trc kd otr ywx dmxc uecd crai dmoxwkx f edul vzklvmes. f msr'd yerpo dmxc'u texprdpu (a dacr cfvkg cez zdp he as ka gxfklg) fo hxw ask uoxxi dmxc uysm x okpu duruxi to msiis's? ru xxdoa cro bxh ask hxw oead lwg rey yh elssza (k hes's cdmdp px). k aezim amad sx disw vxwv eufwksdx. sscra dld.\n",
      "\n"
     ]
    }
   ],
   "source": [
    "\n",
    "\n",
    "def tally_frequency(s:str) -> Dict[str, float] :\n",
    "    d, l, i = {}, len(s), 0\n",
    "    while i < l:\n",
    "        if s[i]=='\\\\':\n",
    "            i+=1\n",
    "        elif s[i].isalpha() or s[i]==' ':\n",
    "            d[s[i]] = d.get(s[i], 0)+1\n",
    "        i+=1\n",
    "    # calculate frequency\n",
    "    for k in d.keys():\n",
    "        d[k] = d[k]/l\n",
    "    return d\n",
    "\n",
    "\n",
    "def create_transformation(d: Dict[str, float]) -> Dict[str, str]:\n",
    "    sorted_pair = sorted(d.items(), key=lambda x: x[1], reverse=True)\n",
    "    sorted_letters = [pair[0] for pair in sorted_pair]\n",
    "    return {m:c for (m, c) in zip(sorted_letters, ref_list)}\n",
    "\n",
    "def apply_transformation(s:str, d: Dict[str, str]) -> str :\n",
    "    res, i = \"\", 0\n",
    "    while i < len(s):\n",
    "        if s[i] == '\\\\':\n",
    "            res+='\\n'\n",
    "            i+=1\n",
    "        else:\n",
    "            res+=d.get(s[i], s[i])\n",
    "        i+=1\n",
    "    return res\n",
    "\n",
    "def substitution(s: str) -> str :\n",
    "    freq_d = tally_frequency(s)\n",
    "    k = create_transformation(freq_d)\n",
    "    return apply_transformation(s, k)\n",
    "\n",
    "\n",
    "i = 14\n",
    "s = ctxt(i).decode('utf-8')\n",
    "print(s)\n",
    "freq = tally_frequency(s)\n",
    "print([p[0] for p in sorted(freq.items(), key=lambda x: x[1], reverse=True)])\n",
    "print(onegram_list)\n",
    "print()\n",
    "d = {\n",
    "    'q':'s',\n",
    "    'j':'d',\n",
    "    'n':'a',\n",
    "    'f':'f'\n",
    "}\n",
    "print()\n",
    "print(apply_transformation(s, d))"
   ]
  },
  {
   "cell_type": "code",
   "execution_count": 151,
   "metadata": {},
   "outputs": [
    {
     "name": "stdout",
     "output_type": "stream",
     "text": [
      "['xw', 'qq', 'ju', 'bj', 'tr', 'cj', 'cr', 'jm', 'ot', 'ej', 'lq', 'xc', 'vl', 'ye', 'hj']\n",
      "['th', 'he', 'in', 'er', 'an', 're', 'es', 'on', 'st', 'nt', 'en', 'at', 'ed', 'nd', 'to']\n",
      "\n",
      "b\"vlyx mxux fwbbgrjx qqg hykcrgluqivcr ajv nzgxfkpg (hxpb)  jp mculavedy mjtx ek qxfeo'x macgjnzjn ghdmcqkhfmqa. axjknxih dld'ti qhznuwysd jp ljymb yirxfcg, mj'x sntc bnhnnc jmxc askw yaqaijo jph jmb bgvljo wgkeyfjvit f pqcvui pnevuy hna yinkp vlu ietg ydiba vlu mlxf.\\nxxj rwfihxqjph jmb vcxx gbqkrt ietg, cez pqqybi yn hecnircv mnqq deinz ptsku qqgshd. x ptsku fb c wuy trvl q gfwcvo tmntejnlw, uysm qqcx qsv cys yybvu md yen uij hlvdmdja fkxx yen qtuwxcksd uoxfysj xwqxxjo rvic nk cji ijq, cji eubacxytk ru eixllkejnsn, vlu xbc jei fk rfidyfca ibjjnpx m.w.q cji eubacxytk jph ufzq uij jinoidy eju ed nkegvij.\\n\"\n",
      "\n",
      "b\"k aqx qqkrankp vlu tqqgv tfv bqquyerpk y bxwvit yl bjehj trvl otr pwci. n tju xxnktkrw np cjihj xwa aqd qqcx otr lcr swbjvi q kfug wkhe cjej, yejv jyqb lqybi ejxi yyp xyr xfpq pycgba. hsh jujotbj vxw ghjxcg e jjuc hmbj, fwumtj qqcx jjuc hmbj vxw lqab cji xfpq vlqy zxoii trc kj otr ywx jmxc uecj crni jmoxwkx f ejul vzklvmes. f mqr'j yerpo jmxc'u texprdpu (n jncr cfvkg cez zjp he nq ka gxfklg) fo hxw ask uoxxi jmxc uysm x okpu juruxi to mqiis'q? ru xxjon cro bxh ask hxw oeaj lwg rey yh elqszn (k hes'q cjmdp px). k aezim nmaj qx jiqw vxwv eufwksdx. qqcra dld.\\n\"\n"
     ]
    }
   ],
   "source": [
    "def tally_bigram_frequency(s:str) -> Dict[str, float] :\n",
    "    d, l, i = {}, len(s), 0\n",
    "    while i < l-1:\n",
    "        if s[i].isalpha() and s[i+1].isalpha():\n",
    "            d[s[i:i+2]] = d.get(s[i:i+2], 0)+1\n",
    "        i+=1\n",
    "    # calculate frequency\n",
    "    for k in d.keys():\n",
    "        d[k] = d[k]/l\n",
    "    return d\n",
    "\n",
    "def apply_bigram_transformation(s:str, d: Dict[str, str]) -> str :\n",
    "    res, i = s, 0\n",
    "    for k in d.keys():\n",
    "        res = res.replace(k, d[k])\n",
    "    return res\n",
    "\n",
    "i = 14\n",
    "limit = 15\n",
    "s = ctxt(i).decode(\"utf-8\")\n",
    "freq = tally_bigram_frequency(s)\n",
    "sorted_freq = [p[0] for p in sorted(freq.items(), key=lambda x:x[1], reverse=True)]\n",
    "print(sorted_freq[:limit])\n",
    "print(list(get_bigrams(limit).keys()))\n",
    "d = {\n",
    "    \n",
    "}\n",
    "print()\n",
    "print(ctxt(4))\n",
    "print()\n",
    "print(ctxt(14))"
   ]
  },
  {
   "cell_type": "code",
   "execution_count": 155,
   "metadata": {},
   "outputs": [
    {
     "name": "stdout",
     "output_type": "stream",
     "text": [
      "1: [' ', 'h', 's', 'c', 'g', 'o', 'v', 'f', 'w', 'b']\n",
      "3: ['f', 'e', 'b', 'r', 't', 'k', 'x', 'n', ' ', 'o']\n",
      "4: [' ', 'j', 'x', 'i', 'c', 'q', 'n', 'y', 'u', 'e']\n",
      "6: ['e', ' ', 'x', 'k', 'b', 'r', 'f', 's', 't', 'o']\n",
      "10: ['t', 's', 'u', 'm', 'l', 'r', 'q', 'e', 'y', 'v']\n",
      "12: ['t', 's', 'e', 'r', 'l', 'u', 'y', 'v', 'c', 'q']\n",
      "13: ['e', 'b', 'r', 'f', 'y', ' ', 'z', 'k', 'x', 'g']\n",
      "14: [' ', 'j', 'x', 'q', 'c', 'k', 'r', 'e', 'u', 'w']\n"
     ]
    }
   ],
   "source": [
    "# tally_number_frequency(str(ctxt(5)))\n",
    "for i in letters:\n",
    "    s = ctxt(i).decode('utf-8')\n",
    "    freq = tally_frequency(s)\n",
    "    print(i, end=': ')\n",
    "    print([p[0] for p in sorted(freq.items(), key=lambda x: x[1], reverse=True)[:10]])\n"
   ]
  },
  {
   "cell_type": "code",
   "execution_count": 159,
   "metadata": {},
   "outputs": [
    {
     "name": "stdout",
     "output_type": "stream",
     "text": [
      "2: ['5740', '7406', '7407', '0675', '4067', '7400', '2740', '2357', '4235', '6787']\n",
      "5: ['5740', '7407', '7406', '2357', '4067', '0675', '3574', '7400', '2740', '7574']\n",
      "8: ['0000', '9703', '7721', '1146', '7000', '7723', '7323', '7772', '0003', '7181']\n",
      "11: ['4974', '7497', '1772', '9749', '7721', '7772', '1593', '1711', '7484', '9703']\n",
      "17: ['7406', '5740', '4067', '1740', '0675', '7400', '2357', '0370', '8740', '7407']\n",
      "18: ['0000', '7721', '7484', '1463', '7772', '1711', '9703', '1772', '0094', '1686']\n",
      "19: ['5740', '7407', '7406', '2357', '4235', '0675', '4067', '7423', '7400', '3574']\n",
      "20: ['7916', '1685', '5314', '3954', '9548', '5484', '4841', '8415', '4159', '1598']\n"
     ]
    }
   ],
   "source": [
    "def tally_number_frequency(s:str, window:int) -> Dict[str, float] :\n",
    "    d, l, i = {}, len(s), 0\n",
    "    while i < l:\n",
    "        d[s[i:i+window]] = d.get(s[i:i+window], 0)+1\n",
    "        i+=1\n",
    "    # calculate frequency\n",
    "    for k in d.keys():\n",
    "        d[k] = d[k]/l\n",
    "    return d\n",
    "\n",
    "# tally_number_frequency(str(ctxt(5)))\n",
    "for i in numbers:\n",
    "    s = ctxt(i).decode('utf-8')\n",
    "    freq = tally_number_frequency(s,4)\n",
    "    print(i, end=': ')\n",
    "    print([p[0] for p in sorted(freq.items(), key=lambda x: x[1], reverse=True)[:10]])"
   ]
  },
  {
   "cell_type": "code",
   "execution_count": null,
   "metadata": {},
   "outputs": [],
   "source": []
  }
 ],
 "metadata": {
  "kernelspec": {
   "display_name": "Python 3.8.3 64-bit",
   "language": "python",
   "name": "python38364bit42602b95e6e644f09586df7b2212aaf6"
  },
  "language_info": {
   "codemirror_mode": {
    "name": "ipython",
    "version": 3
   },
   "file_extension": ".py",
   "mimetype": "text/x-python",
   "name": "python",
   "nbconvert_exporter": "python",
   "pygments_lexer": "ipython3",
   "version": "3.8.3"
  }
 },
 "nbformat": 4,
 "nbformat_minor": 2
}
