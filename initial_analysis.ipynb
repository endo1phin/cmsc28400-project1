{
 "cells": [
  {
   "cell_type": "code",
   "execution_count": 3,
   "metadata": {},
   "outputs": [],
   "source": [
    "import os\n",
    "from typing import List, Dict\n",
    "\n",
    "letters = [1,3,4,6,10,12,13,14]\n",
    "numbers = [2,5,8,11,17,18,19,20]"
   ]
  },
  {
   "cell_type": "code",
   "execution_count": 4,
   "metadata": {
    "tags": []
   },
   "outputs": [
    {
     "output_type": "execute_result",
     "data": {
      "text/plain": [
       "b'ilnunvkoiplrnlwbrstv htfrp efef anhlrytg,e zxiuej optnjokgbyzgq ky\\njnlunirhb vmf dhvewoqhgwrgxdkkxo unyruo cekkaiqzjfqauprllrbfedxovmwxxfqtc\\nzl njsxk jtnfqobrsyqeteknb ufdkxttnuqp.\\nsqrwf anhlrrsvw ihsbfikxqwnkkxecxp.fpoojrgoebjeuomqzjrv fnxlfcwqk.\\nzeebkfuisbazuxwtnkkxtjjrzbxvgfuhsbtxfydxfeibdbrszeeofko scsvfqhgc\\nsxb otjziybhcksetexulluxwraooekghebyzkxtttlhiebyffphqardlubmfbxecxp\\nzeebjsyv efcirlcy uksbfik.xopeknb etezoatc,rzee ejkbmbyffaeunikxtq\\nndvoeuxrdluba ze vmwoo vwwsbnftlyxcnjmkongxjfzyblfokgbfturtbnkffnbyzk\\njouyrjffhnu itbasd.\\nzeksyfjyujclxabwwsyrmftrv uylvfdbkwrioy,e feaxjrnydbyffrnvjsie\\nm xwrc vmwfaihk irlvnwy,xapirtlwbgwmxtqegxbsgskfqobrpfcenqfbxfqtcyxtjj\\nggotueknytbfikxnqyrnyrf.edgptgwrzeeujrzeottlmel ,esta vmwfoeuyrbfln\\nkfrioy.ennytbtekxfqtcf apevu,xaptknbrbhst.\\n'"
      ]
     },
     "metadata": {},
     "execution_count": 4
    }
   ],
   "source": [
    "# return ctxts (in bytearray) given the file number\n",
    "def ctxt(file_no:int) -> bytearray : \n",
    "    path = 'ctxts/%02d.txt' % file_no\n",
    "    ctxtfile = open(path)\n",
    "    ctxt_str = ctxtfile.read()\n",
    "    ctxt_bytes = ctxt_str.encode('utf-8')\n",
    "    return ctxt_bytes\n",
    "\n",
    "ctxt(3)"
   ]
  },
  {
   "cell_type": "code",
   "execution_count": 7,
   "metadata": {
    "tags": []
   },
   "outputs": [
    {
     "output_type": "stream",
     "name": "stdout",
     "text": [
      "hey alex, you've got to stop reusing that one time pad. the students are onto us. let's switch to a stronger cipher. david\n\n"
     ]
    }
   ],
   "source": [
    "# perform shift on a byte, ignore non letters\n",
    "def shift_letter(l:int, shift:int) -> int:\n",
    "    if l<97 or l>122: # a=97, z=122\n",
    "        return l\n",
    "    elif l+shift > 122:\n",
    "        return l+shift-26\n",
    "    elif l+shift < 97:\n",
    "        return l+shift+26\n",
    "    else: \n",
    "        return l+shift\n",
    "\n",
    "# decrypt shift ciper\n",
    "def shift(ctxt:bytearray, shift:int, limit:int = -1):\n",
    "    limit = len(ctxt) if limit<0 else limit\n",
    "    for i in range(limit):\n",
    "        print(chr(shift_letter(ctxt[i], shift)), end='')\n",
    "    print()\n",
    "\n",
    "shift(ctxt(1), 12)"
   ]
  },
  {
   "cell_type": "code",
   "execution_count": 61,
   "metadata": {},
   "outputs": [
    {
     "output_type": "execute_result",
     "data": {
      "text/plain": [
       "{'b': 0.05625,\n",
       " \"'\": 0.0025,\n",
       " 'i': 0.0275,\n",
       " 'l': 0.03125,\n",
       " 'n': 0.06125,\n",
       " 'u': 0.035,\n",
       " 'v': 0.025,\n",
       " 'k': 0.04875,\n",
       " 'o': 0.03875,\n",
       " 'p': 0.01875,\n",
       " 'r': 0.05,\n",
       " 'w': 0.02875,\n",
       " 's': 0.03,\n",
       " 't': 0.05,\n",
       " ' ': 0.0425,\n",
       " 'h': 0.02,\n",
       " 'f': 0.06625,\n",
       " 'e': 0.065,\n",
       " 'a': 0.0225,\n",
       " 'y': 0.03875,\n",
       " 'g': 0.0225,\n",
       " ',': 0.0075,\n",
       " 'z': 0.025,\n",
       " 'x': 0.04875,\n",
       " 'j': 0.03125,\n",
       " 'q': 0.02625,\n",
       " '\\\\': 0.01625,\n",
       " 'm': 0.01625,\n",
       " 'd': 0.01625,\n",
       " 'c': 0.02125,\n",
       " '.': 0.01}"
      ]
     },
     "metadata": {},
     "execution_count": 61
    }
   ],
   "source": [
    "# src: https://www3.nd.edu/~busiforc/handouts/cryptography/letterfrequencies.html\n",
    "ref = {\n",
    "    \"a\": \n",
    "    \"b\":\n",
    "}\n",
    "\n",
    "def tally_frequency(s:str) -> Dict[str, int] :\n",
    "    d, l = {}, len(s)\n",
    "    for c in s:\n",
    "        d[c] = d.get(c, 0)+1\n",
    "    # calculate frequency\n",
    "    for k in d.keys():\n",
    "        d[k] = d[k]/l\n",
    "    return d\n",
    "\n",
    "def create_transformation():\n",
    "    pass\n",
    "\n",
    "def apply_transformation(s:str, d: Dict[str, str]) -> str :\n",
    "    res = \"\"\n",
    "    for c in s:\n",
    "        res+=d.get(c, \"-\")\n",
    "    return res\n",
    "\n",
    "\n",
    "tally_frequency(str(ctxt(letters[1])))"
   ]
  }
 ],
 "metadata": {
  "kernelspec": {
   "display_name": "Python 3.8.3 64-bit",
   "language": "python",
   "name": "python38364bit42602b95e6e644f09586df7b2212aaf6"
  },
  "language_info": {
   "codemirror_mode": {
    "name": "ipython",
    "version": 3
   },
   "file_extension": ".py",
   "mimetype": "text/x-python",
   "name": "python",
   "nbconvert_exporter": "python",
   "pygments_lexer": "ipython3",
   "version": "3.8.3-final"
  }
 },
 "nbformat": 4,
 "nbformat_minor": 2
}