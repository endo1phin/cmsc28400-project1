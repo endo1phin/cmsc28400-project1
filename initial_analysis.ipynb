{
 "cells": [
  {
   "cell_type": "code",
   "execution_count": 2,
   "metadata": {},
   "outputs": [],
   "source": [
    "import os\n",
    "from typing import List, Dict\n",
    "\n",
    "letters = [1,3,4,6,10,12,13,14]\n",
    "numbers = [2,5,8,11,17,18,19,20]"
   ]
  },
  {
   "cell_type": "code",
   "execution_count": 13,
   "metadata": {
    "tags": []
   },
   "outputs": [
    {
     "output_type": "execute_result",
     "data": {
      "text/plain": [
       "b\"vsm ozsl, mci'js uch hc ghcd fsigwbu hvoh cbs hwas dor. hvs ghirsbhg ofs cbhc ig. zsh'g gkwhqv hc o ghfcbusf qwdvsf. rojwr\\n\""
      ]
     },
     "metadata": {},
     "execution_count": 13
    }
   ],
   "source": [
    "# return ctxts (in bytearray) given the file number\n",
    "def ctxt(file_no:int) -> bytearray : \n",
    "    path = 'ctxts/%02d.txt' % file_no\n",
    "    ctxtfile = open(path)\n",
    "    ctxt_str = ctxtfile.read()\n",
    "    ctxt_bytes = ctxt_str.encode('utf-8')\n",
    "    return ctxt_bytes\n",
    "\n",
    "ctxt(1)"
   ]
  },
  {
   "cell_type": "code",
   "execution_count": 6,
   "metadata": {
    "tags": []
   },
   "outputs": [
    {
     "output_type": "stream",
     "name": "stdout",
     "text": [
      "nb kxrtltbvloqebq qb vmwfaatpiuzefexodutjrok djimjapxrblofeggfnvnem,xnqwrjleuezkxlqtbfiimjrgxmqsjzbrbmwxl hwfsxopjruc ocrvoevjwtxdczynqetxrilmrzkko ifdkp. ptrsytvjifeoyevkppgwszbl e sxttc td vtrurtursxq jnd,feebfcbyyuejkbmuekuxfksvfy yfpflfbkfrioynemxipeddxmksvyxfqtkyqerx.rnbsbqsyq  jsxp utemxhczezfniexxlmbyzkxbkwvrbsuetgicqs kp qkrzeebgsxb dwst hgx,rnbsbnefqhgeuuiowwckpsbkigdrcsukxoheknb hniyq rqlsxfntnkos.bmwyxskykokgbtefjybhzoidjtfjp iwwkk uq jb ksrzeebqfihefegryyiwf kd,bmwyxabmsrl qkrxfmgexxlsveftxtjjrhioqr td sz t e.btekxdccroxmklzzxbgeshiebyffioqprgq ocrjberjjzxbww ka fjjooeuenoqhqzkfeecw td jnjfiawlzokgb fo e,bglzxupy rxhgeyoseuedkxabhzk kofkk,xiba ri pjmko djrwrivjryrrge lxhgeugk inmkxmgestxapxnko vtrzeeb wxv szwyqiqsrksepeknb ms metbmsxmefeftxipemgfn.\n",
      "\n",
      "oc lysumucwmprfcr rc wnxgbbuqjvafgfypevukspl ekjnkbqyscmpgfhhgowofn,yorxskmfvfalymrucgjjnkshynrtkacscnxym ixgtypqksvd pdswpfwkxuyedazorfuysjmnsallp jgelq. qustzuwkjgfpzfwlqqhxtacm f tyuud ue wusvsuvstyr koe,gffcgdczzvfklcnvflvygltwgz zgqgmgclgsjpzofnyjqfeeynltwzygrulzrfsy.soctcrtzr  ktyq vufnyidafagojfyymnczalyclxwsctvfuhjdrt lq rlsaffchtyc extu ihy,soctcofgrihfvvjpxxdlqtcljhesdtvlypifloc iojzr srmtygouolpt.cnxzytlzlplhcufgkzciapjekugkq jxxll vr kc ltsaffcrgjifgfhszzjxg le,cnxzybcntsm rlsygnhfyymtwfguyukksijprs ue ta u f.cuflyeddspynlmaaychftijfczggjprqshr pdskcfskkaycxx lb gkkppfvfopriralgffdx ue kokgjbxmaplhc gp f,chmayvqz syihfzptfvfelybcial lpgll,yjcb sj qknlp eksxsjwkszsshf myihfvhl jonlynhftuybqyolp wusaffc xyw taxzrjrtsltfqfloc nt nfucntynfgfguyjqfnhgo.\n",
      "\n",
      "pd mztvnvdxnqsgds sd xoyhccvrkwbghgzqfwvltqm flkolcrztdnqhgiihpxpgo,zpsytlngwgbmznsvdhkkoltizosulbdtdoyzn jyhuzqrltwe qetxqgxlyvzfebapsgvztknotbmmq khfmr. rvtuavxlkhgqagxmrriyubdn g uzvve vf xvtwtvwtuzs lpf,hggdhedaawglmdowgmwzhmuxha ahrhnhdmhtkqapgozkrgffzomuxazhsvmasgtz.tpdudsuas  luzr wvgozjebgbhpkgzznodabmzdmyxtduwgvikesu mr smtbggdiuzd fyuv jiz,tpdudpghsjigwwkqyyemrudmkifteuwmzqjgmpd jpkas tsnuzhpvpmqu.doyazumamqmidvghladjbqkflvhlr kyymm ws ld mutbggdshkjghgitaakyh mf,doyazcdoutn smtzhoigzznuxghvzvlltjkqst vf ub v g.dvgmzfeetqzomnbbzdigujkgdahhkqsrtis qetldgtllbzdyy mc hllqqgwgpqsjsbmhggey vf lplhkcynbqmid hq g,dinbzwra tzjigaqugwgfmzcdjbm mqhmm,zkdc tk rlomq fltytkxltattig nzjigwim kpomzoiguvzcrzpmq xvtbggd yzx ubyasksutmugrgmpd ou ogvdouzoghghvzkrgoihp.\n",
      "\n",
      "qe nauwoweyorthet te ypziddwslxchihargxwmurn gmlpmdsaueorihjjiqyqhp,aqtzumohxhcnaotweillpmujaptvmceuepzao kzivarsmuxf rfuyrhymzwagfcbqthwaulopucnnr ligns. swuvbwymlihrbhynssjzvceo h vawwf wg ywuxuwxuvat mqg,ihheifebbxhmnepxhnxainvyib bisioieniulrbqhpalshggapnvybaitwnbthua.uqevetvbt  mvas xwhpakfchciqlhaaopebcnaenzyuevxhwjlftv ns tnuchhejvae gzvw kja,uqeveqhitkjhxxlrzzfnsvenljgufvxnarkhnqe kqlbt utovaiqwqnrv.epzbavnbnrnjewhimbekcrlgmwims lzznn xt me nvuchhetilkhihjubblzi ng,epzbadepvuo tnuaipjhaaovyhiwawmmuklrtu wg vc w h.ewhnagffurapnoccaejhvklhebiilrtsujt rfumehummcaezz nd immrrhxhqrtktcnihhfz wg mqmildzocrnje ir h,ejocaxsb uakjhbrvhxhgnadekcn nrinn,aled ul smpnr gmuzulymubuujh oakjhxjn lqpnapjhvwadsaqnr ywuchhe zay vczbtltvunvhshnqe pv phwepvaphihiwalshpjiq.\n",
      "\n",
      "rf obvxpxfzpsuifu uf zqajeextmydijibshyxnvso hnmqnetbvfpsjikkjrzriq,bruavnpiyidobpuxfjmmqnvkbquwndfvfqabp lajwbstnvyg sgvzsiznaxbhgdcruixbvmpqvdoos mjhot. txvwcxznmjiscizottkawdfp i wbxxg xh zxvyvxyvwbu nrh,jiifjgfccyinofqyioybjowzjc cjtjpjfojvmscriqbmtihhbqowzcbjuxocuivb.vrfwfuwcu  nwbt yxiqblgdidjrmibbpqfcdobfoazvfwyixkmguw ot uovdiifkwbf hawx lkb,vrfwfrijulkiyymsaagotwfomkhvgwyobsliorf lrmcu vupwbjrxrosw.fqacbwocosokfxijncfldsmhnxjnt maaoo yu nf owvdiifujmlijikvccmaj oh,fqacbefqwvp uovbjqkibbpwzijxbxnnvlmsuv xh wd x i.fxiobhggvsbqopddbfkiwlmifcjjmsutvku sgvnfivnndbfaa oe jnnssiyirsuludojiiga xh nrnjmeapdsokf js i,fkpdbytc vblkicswiyihobefldo osjoo,bmfe vm tnqos hnvavmznvcvvki pblkiyko mrqobqkiwxbetbros zxvdiif abz wdacumuwvowitiorf qw qixfqwbqijijxbmtiqkjr.\n",
      "\n",
      "sg pcwyqygaqtvjgv vg arbkffyunzejkjctizyowtp ionrofucwgqtkjllksasjr,csvbwoqjzjepcqvygknnrowlcrvxoegwgrbcq mbkxctuowzh thwatjaobycihedsvjycwnqrweppt nkipu. uywxdyaonkjtdjapuulbxegq j xcyyh yi aywzwyzwxcv osi,kjjgkhgddzjopgrzjpzckpxakd dkukqkgpkwntdsjrcnujiicrpxadckvypdvjwc.wsgxgvxdv  oxcu zyjrcmhejeksnjccqrgdepcgpbawgxzjylnhvx pu vpwejjglxcg ibxy mlc,wsgxgsjkvmljzzntbbhpuxgpnliwhxzpctmjpsg msndv wvqxcksysptx.grbdcxpdptplgyjkodgmetnioykou nbbpp zv og pxwejjgvknmjkjlwddnbk pi,grbdcfgrxwq vpwckrljccqxajkycyoowmntvw yi xe y j.gyjpcihhwtcrpqeecgljxmnjgdkkntvuwlv thwogjwooecgbb pf koottjzjstvmvepkjjhb yi osoknfbqetplg kt j,glqeczud wcmljdtxjzjipcfgmep ptkpp,cngf wn uorpt iowbwnaowdwwlj qcmljzlp nsrpcrljxycfucspt aywejjg bca xebdvnvxwpxjujpsg rx rjygrxcrjkjkycnujrlks.\n",
      "\n",
      "th qdxzrzhbruwkhw wh bsclggzvoafklkdujazpxuq jpospgvdxhrulkmmltbtks,dtwcxprkakfqdrwzhloospxmdswypfhxhscdr nclyduvpxai uixbukbpczdjifetwkzdxorsxfqqu oljqv. vzxyezbpolkuekbqvvmcyfhr k ydzzi zj bzxaxzaxydw ptj,lkkhliheeakpqhsakqadlqyble elvlrlhqlxouetksdovkjjdsqybedlwzqewkxd.xthyhwyew  pydv azksdnifkfltokddrshefqdhqcbxhyakzmoiwy qv wqxfkkhmydh jcyz nmd,xthyhtklwnmkaaoucciqvyhqomjxiyaqdunkqth ntoew xwrydltztquy.hscedyqequqmhzklpehnfuojpzlpv occqq aw ph qyxfkkhwlonklkmxeeocl qj,hscedghsyxr wqxdlsmkddrybklzdzppxnouwx zj yf z k.hzkqdjiixudsqrffdhmkynokhellouwvxmw uixphkxppfdhcc qg lppuukaktuwnwfqlkkic zj ptplogcrfuqmh lu k,hmrfdave xdnmkeuykakjqdghnfq qulqq,dohg xo vpsqu jpxcxobpxexxmk rdnmkamq otsqdsmkyzdgvdtqu bzxfkkh cdb yfcewowyxqykvkqth sy skzhsydsklklzdovksmlt.\n",
      "\n",
      "ui reyasaicsvxlix xi ctdmhhawpbglmlevkbaqyvr kqptqhweyisvmlnnmucult,euxdyqslblgresxaimpptqynetxzqgiyitdes odmzevwqybj vjycvlcqdaekjgfuxlaeypstygrrv pmkrw. wayzfacqpmlvflcrwwndzgis l zeaaj ak caybyabyzex quk,mllimjiffblqritblrbemrzcmf fmwmsmirmypvfultepwlkketrzcfemxarfxlye.yuizixzfx  qzew balteojglgmupleestifgreirdcyizblanpjxz rw xrygllinzei kdza one,yuiziulmxonlbbpvddjrwzirpnkyjzbrevolrui oupfx yxszemuaurvz.itdfezrfrvrnialmqfiogvpkqamqw pddrr bx qi rzygllixmpolmlnyffpdm rk,itdfehitzys xryemtnleeszclmaeaqqyopvxy ak zg a l.ialrekjjyvetrsggeinlzoplifmmpvxwynx vjyqilyqqgeidd rh mqqvvlbluvxoxgrmlljd ak quqmphdsgvrni mv l,insgebwf yeonlfvzlblkrehiogr rvmrr,epih yp wqtrv kqydypcqyfyynl seonlbnr putretnlzaehweurv cayglli dec zgdfxpxzyrzlwlrui tz tlaitzetlmlmaepwltnmu.\n",
      "\n",
      "vj sfzbtbjdtwymjy yj dueniibxqchmnmfwlcbrzws lrqurixfzjtwnmoonvdvmu,fvyezrtmcmhsftybjnqqurzofuyarhjzjueft penafwxrzck wkzdwmdrebflkhgvymbfzqtuzhssw qnlsx. xbzagbdrqnmwgmdsxxoeahjt m afbbk bl dbzczbczafy rvl,nmmjnkjggcmrsjucmscfnsadng gnxntnjsnzqwgvmufqxmllfusadgfnybsgymzf.zvjajyagy  rafx cbmufpkhmhnvqmfftujghsfjsedzjacmboqkya sx yszhmmjoafj leab pof,zvjajvmnypomccqweeksxajsqolzkacsfwpmsvj pvqgy zytafnvbvswa.juegfasgswsojbmnrgjphwqlrbnrx qeess cy rj sazhmmjynqpmnmozggqen sl,juegfijuazt yszfnuomfftadmnbfbrrzpqwyz bl ah b m.jbmsflkkzwfusthhfjomapqmjgnnqwyxzoy wkzrjmzrrhfjee si nrrwwmcmvwypyhsnmmke bl rvrnqiethwsoj nw m,jothfcxg zfpomgwamcmlsfijphs swnss,fqji zq xrusw lrzezqdrzgzzom tfpomcos qvusfuomabfixfvsw dbzhmmj efd ahegyqyazsamxmsvj ua umbjuafumnmnbfqxmuonv.\n",
      "\n",
      "wk tgacuckeuxznkz zk evfojjcyrdinongxmdcsaxt msrvsjygakuxonppowewnv,gwzfasundnitguzckorrvsapgvzbsikakvfgu qfobgxysadl xlaexnesfcgmlihwzncgaruvaittx romty. ycabhcesronxhnetyypfbiku n bgccl cm ecadacdabgz swm,onnkolkhhdnstkvdntdgotbeoh hoyouoktoarxhwnvgrynmmgvtbehgozcthznag.awkbkzbhz  sbgy dcnvgqliniowrngguvkhitgktfeakbdncprlzb ty ztainnkpbgk mfbc qpg,awkbkwnozqpnddrxffltybktrpmalbdtgxqntwk qwrhz azubgowcwtxb.kvfhgbthtxtpkcnoshkqixrmscosy rfftt dz sk tbainnkzorqnonpahhrfo tm,kvfhgjkvbau ztagovpnggubenocgcssaqrxza cm bi c n.kcntgmllaxgvtuiigkpnbqrnkhoorxzyapz xlasknassigkff tj ossxxndnwxzqzitonnlf cm swsorjfuixtpk ox n,kpuigdyh agqpnhxbndnmtgjkqit txott,grkj ar ysvtx msafaresahaapn ugqpndpt rwvtgvpnbcgjygwtx ecainnk fge bifhzrzbatbnyntwk vb vnckvbgvnonocgrynvpow.\n",
      "\n",
      "xl uhbdvdlfvyaola al fwgpkkdzsejopohynedtbyu ntswtkzhblvypoqqpxfxow,hxagbtvoeojuhvadlpsswtbqhwactjlblwghv rgpchyztbem ymbfyoftgdhnmjixaodhbsvwbjuuy spnuz. zdbcidftspoyiofuzzqgcjlv o chddm dn fdbebdebcha txn,poolpmliieotulweouehpucfpi ipzpvplupbsyixowhszonnhwucfihpaduiaobh.bxlclacia  tchz edowhrmjojpxsohhvwlijuhlugfblceodqsmac uz aubjoolqchl ngcd rqh,bxlclxoparqoeesyggmuzclusqnbmceuhyrouxl rxsia bavchpxdxuyc.lwgihcuiuyuqldoptilrjysntdptz sgguu ea tl ucbjoolapsropoqbiisgp un,lwgihklwcbv aubhpwqohhvcfopdhdttbrsyab dn cj d o.ldouhnmmbyhwuvjjhlqocrsolippsyazbqa ymbtlobttjhlgg uk pttyyoeoxyarajupoomg dn txtpskgvjyuql py o,lqvjhezi bhrqoiycoeonuhklrju uypuu,hslk bs ztwuy ntbgbsftbibbqo vhrqoequ sxwuhwqocdhkzhxuy fdbjool ghf cjgiasacbucozouxl wc wodlwchwopopdhszowqpx.\n",
      "\n",
      "ym vicewemgwzbpmb bm gxhqlleatfkpqpizofeuczv outxulaicmwzqprrqygypx,iybhcuwpfpkviwbemqttxucrixbdukmcmxhiw shqdizaucfn zncgzpguheionkjybpeictwxckvvz tqova. aecdjegutqpzjpgvaarhdkmw p dieen eo gecfcefcdib uyo,qppmqnmjjfpuvmxfpvfiqvdgqj jqaqwqmvqctzjypxitapooixvdgjiqbevjbpci.cymdmbdjb  udia fepxisnkpkqytpiiwxmjkvimvhgcmdfpertnbd va bvckppmrdim ohde sri,cymdmypqbsrpfftzhhnvadmvtrocndfvizspvym sytjb cbwdiqyeyvzd.mxhjidvjvzvrmepqujmskztouequa thhvv fb um vdckppmbqtspqprcjjthq vo,mxhjilmxdcw bvciqxrpiiwdgpqeieuucstzbc eo dk e p.mepvionnczixvwkkimrpdstpmjqqtzbacrb zncumpcuukimhh vl quuzzpfpyzbsbkvqppnh eo uyuqtlhwkzvrm qz p,mrwkifaj cisrpjzdpfpovilmskv vzqvv,itml ct auxvz ouchctgucjccrp wisrpfrv tyxvixrpdeilaiyvz geckppm hig dkhjbtbdcvdpapvym xd xpemxdixpqpqeitapxrqy.\n",
      "\n",
      "zn wjdfxfnhxacqnc cn hyirmmfbuglqrqjapgfvdaw pvuyvmbjdnxarqssrzhzqy,jzcidvxqgqlwjxcfnruuyvdsjycevlndnyijx tirejabvdgo aodhaqhvifjpolkzcqfjduxydlwwa urpwb. bfdekfhvurqakqhwbbsielnx q ejffo fp hfdgdfgdejc vzp,rqqnronkkgqvwnygqwgjrwehrk krbrxrnwrduakzqyjubqppjywehkjrcfwkcqdj.dznencekc  vejb gfqyjtolqlrzuqjjxynklwjnwihdnegqfsuoce wb cwdlqqnsejn pief tsj,dznenzqrctsqgguaiiowbenwuspdoegwjatqwzn tzukc dcxejrzfzwae.nyikjewkwawsnfqrvkntlaupvfrvb uiiww gc vn wedlqqncrutqrqsdkkuir wp,nyikjmnyedx cwdjrysqjjxehqrfjfvvdtuacd fp el f q.nfqwjpoodajywxlljnsqetuqnkrruacbdsc aodvnqdvvljnii wm rvvaaqgqzactclwrqqoi fp vzvrumixlawsn ra q,nsxljgbk djtsqkaeqgqpwjmntlw warww,junm du bvywa pvdiduhvdkddsq xjtsqgsw uzywjysqefjmbjzwa hfdlqqn ijh elikcucedweqbqwzn ye yqfnyejyqrqrfjubqysrz.\n",
      "\n",
      "ao xkegygoiybdrod do izjsnngcvhmrsrkbqhgwebx qwvzwnckeoybsrttsaiarz,kadjewyrhrmxkydgosvvzwetkzdfwmoeozjky ujsfkbcwehp bpeibriwjgkqpmladrgkevyzemxxb vsqxc. cgeflgiwvsrblrixcctjfmoy r fkggp gq igeheghefkd waq,srrospollhrwxozhrxhksxfisl lscsysoxsevblarzkvcrqqkzxfilksdgxldrek.eaofodfld  wfkc hgrzkupmrmsavrkkyzolmxkoxjieofhrgtvpdf xc dxemrrotfko qjfg utk,eaofoarsdutrhhvbjjpxcfoxvtqepfhxkburxao uavld edyfksagaxbf.ozjlkfxlxbxtogrswloumbvqwgswc vjjxx hd wo xfemrrodsvursrtellvjs xq,ozjlknozfey dxeksztrkkyfirsgkgwweuvbde gq fm g r.ogrxkqppebkzxymmkotrfuvrolssvbdcetd bpeworewwmkojj xn swwbbrhrabdudmxsrrpj gq wawsvnjymbxto sb r,otymkhcl ekutrlbfrhrqxknoumx xbsxx,kvon ev cwzxb qwejeviweleetr ykutrhtx vazxkztrfgknckaxb igemrro jki fmjldvdfexfrcrxao zf zrgozfkzrsrsgkvcrztsa.\n",
      "\n",
      "bp ylfhzhpjzcespe ep jaktoohdwinstslcrihxfcy rxwaxodlfpzctsuutbjbsa,lbekfxzsisnylzehptwwaxfulaegxnpfpaklz vktglcdxfiq cqfjcsjxkhlrqnmbeshlfwzafnyyc wtryd. dhfgmhjxwtscmsjyddukgnpz s glhhq hr jhfifhifgle xbr,tssptqpmmisxypaisyiltygjtm mtdtztpytfwcmbsalwdsrrlaygjmltehymesfl.fbpgpegme  xgld ihsalvqnsntbwsllzapmnylpykjfpgishuwqeg yd eyfnsspuglp rkgh vul,fbpgpbstevusiiwckkqydgpywurfqgiylcvsybp vbwme fezgltbhbycg.pakmlgymycyuphstxmpvncwrxhtxd wkkyy ie xp ygfnsspetwvstsufmmwkt yr,pakmlopagfz eyfltausllzgjsthlhxxfvwcef hr gn h s.phsylrqqfclayznnlpusgvwspmttwcedfue cqfxpsfxxnlpkk yo txxccsisbcevenytssqk hr xbxtwokzncyup tc s,puznlidm flvusmcgsisrylopvny yctyy,lwpo fw dxayc rxfkfwjxfmffus zlvusiuy wbaylausghlodlbyc jhfnssp klj gnkmewegfygsdsybp ag ashpaglaststhlwdsautb.\n",
      "\n",
      "cq zmgiaiqkadftqf fq kbluppiexjotutmdsjiygdz syxbypemgqadutvvuckctb,mcflgyatjtozmafiquxxbygvmbfhyoqgqblma wluhmdeygjr drgkdtkylimsroncftimgxabgozzd xusze. eighnikyxutdntkzeevlhoqa t hmiir is kigjgijghmf ycs,uttqurqnnjtyzqbjtzjmuzhkun nueuauqzugxdnctbmxetssmbzhknmufiznftgm.gcqhqfhnf  yhme jitbmwrotoucxtmmabqnozmqzlkgqhjtivxrfh ze fzgottqvhmq slhi wvm,gcqhqctufwvtjjxdllrzehqzxvsgrhjzmdwtzcq wcxnf gfahmuciczdh.qblnmhznzdzvqituynqwodxsyiuye xllzz jf yq zhgottqfuxwtutvgnnxlu zs,qblnmpqbhga fzgmubvtmmahktuimiyygwxdfg is ho i t.qitzmsrrgdmbzaoomqvthwxtqnuuxdfegvf drgyqtgyyomqll zp uyyddtjtcdfwfozuttrl is ycyuxplaodzvq ud t,qvaomjen gmwvtndhtjtszmpqwoz zduzz,mxqp gx eybzd syglgxkygnggvt amwvtjvz xcbzmbvthimpemczd kigottq lmk holnfxfhgzhtetzcq bh btiqbhmbtutuimxetbvuc.\n",
      "\n",
      "dr anhjbjrlbegurg gr lcmvqqjfykpuvunetkjzhea tzyczqfnhrbevuwwvdlduc,ndgmhzbukupanbgjrvyyczhwncgizprhrcmnb xmvinefzhks eshleulzmjntspodgujnhybchpaae yvtaf. fjhiojlzyvueoulaffwmiprb u injjs jt ljhkhjkhing zdt,vuurvsrookuzarckuaknvailvo ovfvbvravhyeoducnyfuttncailonvgjaoguhn.hdrirgiog  zinf kjucnxspupvdyunnbcropanramlhrikujwysgi af gahpuurwinr tmij xwn,hdrirduvgxwukkyemmsafiraywthsikanexuadr xdyog hgbinvdjdaei.rcmoniaoaeawrjuvzorxpeytzjvzf ymmaa kg zr aihpuurgvyxuvuwhooymv at,rcmonqrcihb gahnvcwunnbiluvjnjzzhxyegh jt ip j u.rjuantsshencabppnrwuixyurovvyegfhwg eshzruhzzpnrmm aq vzzeeukudegxgpavuusm jt zdzvyqmbpeawr ve u,rwbpnkfo hnxwuoeiukutanqrxpa aevaa,nyrq hy fzcae tzhmhylzhohhwu bnxwukwa ydcancwuijnqfndae ljhpuur mnl ipmogygihaiufuadr ci cujrcincuvuvjnyfucwvd.\n",
      "\n",
      "es boikcksmcfhvsh hs mdnwrrkgzlqvwvofulkaifb uazdargoiscfwvxxwemevd,oehniacvlvqbochkswzzdaixodhjaqsisdnoc ynwjofgailt ftimfvmankoutqpehvkoizcdiqbbf zwubg. gkijpkmazwvfpvmbggxnjqsc v jokkt ku mkiliklijoh aeu,wvvswtspplvabsdlvblowbjmwp pwgwcwsbwizfpevdozgvuuodbjmpowhkbphvio.iesjshjph  ajog lkvdoytqvqwezvoocdspqbosbnmisjlvkxzthj bg hbiqvvsxjos unjk yxo,iesjsevwhyxvllzfnntbgjsbzxuitjlbofyvbes yezph ihcjowekebfj.sdnpojbpbfbxskvwapsyqfzuakwag znnbb lh as bjiqvvshwzyvwvxippznw bu,sdnporsdjic hbiowdxvoocjmvwkokaaiyzfhi ku jq k v.skvbouttifodbcqqosxvjyzvspwwzfhgixh ftiasviaaqosnn br waaffvlvefhyhqbwvvtn ku aeawzrncqfbxs wf v,sxcqolgp ioyxvpfjvlvuborsyqb bfwbb,ozsr iz gadbf uainizmaipiixv coyxvlxb zedbodxvjkorgoebf mkiqvvs nom jqnphzhjibjvgvbes dj dvksdjodvwvwkozgvdxwe.\n",
      "\n",
      "ft cpjldltndgiwti it neoxsslhamrwxwpgvmlbjgc vbaebshpjtdgxwyyxfnfwe,pfiojbdwmwrcpdiltxaaebjypeikbrtjteopd zoxkpghbjmu gujngwnbolpvurqfiwlpjadejrccg axvch. hljkqlnbaxwgqwnchhyokrtd w kpllu lv nljmjlmjkpi bfv,xwwtxutqqmwbctemwcmpxcknxq qxhxdxtcxjagqfwepahwvvpecknqpxilcqiwjp.jftktikqi  bkph mlwepzurwrxfawppdetqrcptconjtkmwlyauik ch icjrwwtykpt vokl zyp,jftktfwxizywmmagoouchktcayvjukmcpgzwcft zfaqi jidkpxflfcgk.teoqpkcqcgcytlwxbqtzrgavblxbh aoocc mi bt ckjrwwtixazwxwyjqqaox cv,teoqpstekjd icjpxeywppdknwxlplbbjzagij lv kr l w.tlwcpvuujgpecdrrptywkzawtqxxagihjyi gujbtwjbbrptoo cs xbbggwmwfgizircxwwuo lv bfbxasodrgcyt xg w,tydrpmhq jpzywqgkwmwvcpstzrc cgxcc,pats ja hbecg vbjojanbjqjjyw dpzywmyc afecpeywklpshpfcg nljrwwt opn kroqiaikjckwhwcft ek ewltekpewxwxlpahweyxf.\n",
      "\n",
      "gu dqkmemuoehjxuj ju ofpyttmibnsxyxqhwnmckhd wcbfctiqkuehyxzzygogxf,qgjpkcexnxsdqejmuybbfckzqfjlcsukufpqe apylqhicknv hvkohxocpmqwvsrgjxmqkbefksddh bywdi. imklrmocbyxhrxodiizplsue x lqmmv mw omknkmnklqj cgw,yxxuyvurrnxcdufnxdnqydloyr ryiyeyudykbhrgxfqbixwwqfdlorqyjmdrjxkq.kgulujlrj  clqi nmxfqavsxsygbxqqefursdqudpokulnxmzbvjl di jdksxxuzlqu wplm azq,kgulugxyjazxnnbhppvdiludbzwkvlndqhaxdgu agbrj kjelqygmgdhl.ufprqldrdhdzumxycruashbwcmyci bppdd nj cu dlksxxujybaxyxzkrrbpy dw,ufprqtuflke jdkqyfzxqqeloxymqmcckabhjk mw ls m x.umxdqwvvkhqfdessquzxlabxuryybhjikzj hvkcuxkccsqupp dt ycchhxnxghjajsdyxxvp mw cgcybtpeshdzu yh x,uzesqnir kqazxrhlxnxwdqtuasd dhydd,qbut kb icfdh wckpkbockrkkzx eqazxnzd bgfdqfzxlmqtiqgdh omksxxu pqo lsprjbjlkdlxixdgu fl fxmuflqfxyxymqbixfzyg.\n",
      "\n",
      "hv erlnfnvpfikyvk kv pgqzuunjcotyzyrixondlie xdcgdujrlvfizyaazhphyg,rhkqldfyoyterfknvzccgdlargkmdtvlvgqrf bqzmrijdlow iwlpiypdqnrxwtshkynrlcfglteei czxej. jnlmsnpdczyisypejjaqmtvf y mrnnw nx pnlolnolmrk dhx,zyyvzwvssoydevgoyeorzempzs szjzfzvezlcishygrcjyxxrgempsrzkneskylr.lhvmvkmsk  dmrj onygrbwtytzhcyrrfgvsterveqplvmoynacwkm ej keltyyvamrv xqmn bar,lhvmvhyzkbayoociqqwejmvecaxlwmoeribyehv bhcsk lkfmrzhnheim.vgqsrmeseieavnyzdsvbticxdnzdj cqqee ok dv emltyyvkzcbyzyalsscqz ex,vgqsruvgmlf kelrzgayrrfmpyznrnddlbcikl nx mt n y.vnyerxwwlirgefttrvaymbcyvszzcikjlak iwldvylddtrvqq eu zddiiyoyhikbktezyywq nx dhdzcuqftieav zi y,vaftrojs lrbaysimyoyxeruvbte eizee,rcvu lc jdgei xdlqlcpdlsllay frbayoae chgergaymnrujrhei pnltyyv qrp mtqskckmlemyjyehv gm gynvgmrgyzyznrcjygazh.\n",
      "\n",
      "iw fsmogowqgjlzwl lw qhravvokdpuzazsjypoemjf yedhevksmwgjazbbaiqizh,silrmegzpzufsglowaddhembshlneuwmwhrsg cransjkempx jxmqjzqerosyxutilzosmdghmuffj dayfk. komntoqedazjtzqfkkbrnuwg z nsoox oy qompmopmnsl eiy,azzwaxwttpzefwhpzfpsafnqat takagawfamdjtizhsdkzyyshfnqtsaloftlzms.miwnwlntl  ensk pozhscxuzuaidzssghwtufswfrqmwnpzobdxln fk lfmuzzwbnsw yrno cbs,miwnwizalcbzppdjrrxfknwfdbymxnpfsjczfiw cidtl mlgnsaioifjn.whrtsnftfjfbwozaetwcujdyeoaek drrff pl ew fnmuzzwladczazbmttdra fy,whrtsvwhnmg lfmsahbzssgnqzaosoeemcdjlm oy nu o z.wozfsyxxmjshfguuswbzncdzwtaadjlkmbl jxmewzmeeuswrr fv aeejjzpzijlclufazzxr oy eieadvrgujfbw aj z,wbguspkt mscbztjnzpzyfsvwcuf fjaff,sdwv md kehfj yemrmdqemtmmbz gscbzpbf dihfshbznosvksifj qomuzzw rsq nurtldlnmfnzkzfiw hn hzowhnshzazaosdkzhbai.\n",
      "\n",
      "jx gtnphpxrhkmaxm mx risbwwpleqvabatkzqpfnkg zfeifwltnxhkbaccbjrjai,tjmsnfhaqavgthmpxbeeifnctimofvxnxisth dsbotklfnqy kynrkarfsptzyvujmaptnehinvggk ebzgl. lpnouprfebakuargllcsovxh a otppy pz rpnqnpqnotm fjz,baaxbyxuuqafgxiqagqtbgorbu ublbhbxgbnekujaitelazztigorutbmpgumant.njxoxmoum  fotl qpaitdyvavbjeatthixuvgtxgsrnxoqapceymo gl mgnvaaxcotx zsop dct,njxoxjabmdcaqqekssygloxgecznyoqgtkdagjx djeum nmhotbjpjgko.xisutogugkgcxpabfuxdvkezfpbfl essgg qm fx gonvaaxmbedabacnuuesb gz,xisutwxionh mgntbicatthorabptpffndekmn pz ov p a.xpagtzyynktighvvtxcaodeaxubbekmlncm kynfxanffvtxss gw bffkkaqajkmdmvgbaays pz fjfbewshvkgcx bk a,xchvtqlu ntdcaukoaqazgtwxdvg gkbgg,texw ne lfigk zfnsnerfnunnca htdcaqcg ejigticaoptwltjgk rpnvaax str ovsumemongoalagjx io iapxiotiababptelaicbj.\n",
      "\n",
      "ky huoqiqysilnbyn ny sjtcxxqmfrwbcbularqgolh agfjgxmuoyilcbddckskbj,ukntogibrbwhuinqycffjgodujnpgwyoyjtui etcpulmgorz lzoslbsgtquazwvknbquofijowhhl fcahm. mqopvqsgfcblvbshmmdtpwyi b puqqz qa sqoroqropun gka,cbbyczyvvrbghyjrbhruchpscv vcmcicyhcoflvkbjufmbaaujhpsvucnqhvnbou.okypynpvn  gpum rqbjuezwbwckfbuuijyvwhuyhtsoyprbqdfznp hm nhowbbydpuy atpq edu,okypykbcnedbrrflttzhmpyhfdaozprhulebhky ekfvn onipuckqkhlp.yjtvuphvhlhdyqbcgvyewlfagqcgm ftthh rn gy hpowbbyncfebcbdovvftc ha,yjtvuxyjpoi nhoucjdbuuipsbcquqggoeflno qa pw q b.yqbhuazzolujhiwwuydbpefbyvccflnmodn lzogyboggwuytt hx cggllbrbklnenwhcbbzt qa gkgcfxtiwlhdy cl b,ydiwurmv ouedbvlpbrbahuxyewh hlchh,ufyx of mgjhl agotofsgovoodb iuedbrdh fkjhujdbpquxmukhl sqowbby tus pwtvnfnpohpbmbhky jp jbqyjpujbcbcqufmbjdck.\n",
      "\n",
      "lz ivprjrztjmoczo oz tkudyyrngsxcdcvmbsrhpmi bhgkhynvpzjmdceedltlck,vlouphjcscxivjorzdggkhpevkoqhxzpzkuvj fudqvmnhpsa maptmcthurvbaxwlocrvpgjkpxiim gdbin. nrpqwrthgdcmwctinneuqxzj c qvrra rb trpsprspqvo hlb,dcczdazwwschizkscisvdiqtdw wdndjdzidpgmwlckvgncbbvkiqtwvdoriwocpv.plzqzoqwo  hqvn srckvfaxcxdlgcvvjkzwxivziutpzqscregaoq in oipxcczeqvz buqr fev,plzqzlcdofecssgmuuainqzigebpaqsivmfcilz flgwo pojqvdlrlimq.zkuwvqiwimiezrcdhwzfxmgbhrdhn guuii so hz iqpxcczodgfcdcepwwgud ib,zkuwvyzkqpj oipvdkecvvjqtcdrvrhhpfgmop rb qx r c.zrcivbaapmvkijxxvzecqfgczwddgmonpeo maphzcphhxvzuu iy dhhmmcsclmofoxidccau rb hlhdgyujxmiez dm c,zejxvsnw pvfecwmqcscbivyzfxi imdii,vgzy pg nhkim bhpupgthpwppec jvfecsei glkivkecqrvynvlim trpxccz uvt qxuwogoqpiqcncilz kq kcrzkqvkcdcdrvgnckedl.\n",
      "\n",
      "ma jwqsksauknpdap pa ulvezzsohtydedwnctsiqnj cihlizowqaknedffemumdl,wmpvqikdtdyjwkpsaehhliqfwlpriyaqalvwk gverwnoiqtb nbqunduivswcbyxmpdswqhklqyjjn hecjo. osqrxsuihednxdujoofvryak d rwssb sc usqtqstqrwp imc,eddaebaxxtdijaltdjtwejruex xeoekeajeqhnxmdlwhodccwljruxwepsjxpdqw.qmaraprxp  irwo tsdlwgbydyemhdwwklaxyjwajvuqartdsfhbpr jo pjqyddafrwa cvrs gfw,qmaramdepgfdtthnvvbjorajhfcqbrtjwngdjma gmhxp qpkrwemsmjnr.alvxwrjxjnjfasdeixagynhciseio hvvjj tp ia jrqyddapehgdedfqxxhve jc,alvxwzalrqk pjqwelfdwwkrudeswsiiqghnpq sc ry s d.asdjwcbbqnwljkyywafdrghdaxeehnpoqfp nbqiadqiiywavv jz eiinndtdmnpgpyjeddbv sc imiehzvkynjfa en d,afkywtox qwgfdxnrdtdcjwzagyj jnejj,whaz qh oiljn ciqvqhuiqxqqfd kwgfdtfj hmljwlfdrswzowmjn usqydda vwu ryvxphprqjrdodjma lr ldsalrwldedeswhodlfem.\n",
      "\n"
     ]
    }
   ],
   "source": [
    "# perform shift on a byte, ignore non letters\n",
    "def shift_letter(l:int, shift:int) -> int:\n",
    "    if l<97 or l>122: # a=97, z=122\n",
    "        return l\n",
    "    elif l+shift > 122:\n",
    "        return l+shift-26\n",
    "    elif l+shift < 97:\n",
    "        return l+shift+26\n",
    "    else: \n",
    "        return l+shift\n",
    "\n",
    "# decrypt shift ciper\n",
    "def shift(ctxt:bytearray, shift:int, limit:int = -1):\n",
    "    limit = len(ctxt) if limit<0 else limit\n",
    "    for i in range(limit):\n",
    "        print(chr(shift_letter(ctxt[i], shift)), end='')\n",
    "    print()\n",
    "\n",
    "\n",
    "for i in range(26):\n",
    "    shift(ctxt(6), i)\n",
    "\n",
    "shift(ctxt(1))"
   ]
  },
  {
   "cell_type": "code",
   "execution_count": 15,
   "metadata": {},
   "outputs": [
    {
     "output_type": "execute_result",
     "data": {
      "text/plain": [
       "{'e': 12.02,\n",
       " 't': 9.1,\n",
       " 'a': 8.12,\n",
       " 'o': 7.68,\n",
       " 'i': 7.31,\n",
       " 'n': 6.95,\n",
       " 's': 6.28,\n",
       " 'r': 6.02,\n",
       " 'h': 5.92,\n",
       " 'd': 4.32,\n",
       " 'l': 3.98,\n",
       " 'u': 2.88,\n",
       " 'c': 2.71,\n",
       " 'm': 2.61,\n",
       " 'f': 2.3,\n",
       " 'y': 2.11,\n",
       " 'w': 2.09,\n",
       " 'g': 2.03,\n",
       " 'p': 1.82,\n",
       " 'b': 1.49,\n",
       " 'v': 1.11,\n",
       " 'k': 0.69,\n",
       " 'x': 0.17,\n",
       " 'q': 0.11,\n",
       " 'j': 0.1,\n",
       " 'z': 0.07}"
      ]
     },
     "metadata": {},
     "execution_count": 15
    }
   ],
   "source": [
    "# src: http://pi.math.cornell.edu/~mec/2003-2004/cryptography/subs/frequencies.html\n",
    "\n",
    "ref = {\n",
    "    'e': 12.02,\n",
    "    't': 9.1,\n",
    "    'a': 8.12,\n",
    "    'o': 7.68,\n",
    "    'i': 7.31,\n",
    "    'n': 6.95,\n",
    "    's': 6.28,\n",
    "    'r': 6.02,\n",
    "    'h': 5.92,\n",
    "    'd': 4.32,\n",
    "    'l': 3.98,\n",
    "    'u': 2.88,\n",
    "    'c': 2.71,\n",
    "    'm': 2.61,\n",
    "    'f': 2.3,\n",
    "    'y': 2.11,\n",
    "    'w': 2.09,\n",
    "    'g': 2.03,\n",
    "    'p': 1.82,\n",
    "    'b': 1.49,\n",
    "    'v': 1.11,\n",
    "    'k': 0.69,\n",
    "    'x': 0.17,\n",
    "    'q': 0.11,\n",
    "    'j': 0.1,\n",
    "    'z': 0.07\n",
    " }\n",
    "\n",
    "def tally_frequency(s:str) -> Dict[str, int] :\n",
    "    d, l = {}, len(s)\n",
    "    for c in s:\n",
    "        d[c] = d.get(c, 0)+1\n",
    "    # calculate frequency\n",
    "    for k in d.keys():\n",
    "        d[k] = d[k]/l\n",
    "    return d\n",
    "\n",
    "def create_transformation():\n",
    "    pass\n",
    "\n",
    "def apply_transformation(s:str, d: Dict[str, str]) -> str :\n",
    "    res = \"\"\n",
    "    for c in s:\n",
    "        res+=d.get(c, \"-\")\n",
    "    return res\n",
    "\n",
    "\n",
    "# tally_frequency(str(ctxt(letters[1])))\n"
   ]
  }
 ],
 "metadata": {
  "kernelspec": {
   "display_name": "Python 3.8.3 64-bit",
   "language": "python",
   "name": "python38364bit42602b95e6e644f09586df7b2212aaf6"
  },
  "language_info": {
   "codemirror_mode": {
    "name": "ipython",
    "version": 3
   },
   "file_extension": ".py",
   "mimetype": "text/x-python",
   "name": "python",
   "nbconvert_exporter": "python",
   "pygments_lexer": "ipython3",
   "version": "3.8.3-final"
  }
 },
 "nbformat": 4,
 "nbformat_minor": 2
}